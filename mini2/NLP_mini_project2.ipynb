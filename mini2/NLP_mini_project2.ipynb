{
  "nbformat": 4,
  "nbformat_minor": 0,
  "metadata": {
    "colab": {
      "provenance": []
    },
    "kernelspec": {
      "name": "python3",
      "display_name": "Python 3"
    },
    "language_info": {
      "name": "python"
    }
  },
  "cells": [
    {
      "cell_type": "markdown",
      "source": [
        "## Import libraries"
      ],
      "metadata": {
        "id": "fnRJlt8bQh-G"
      }
    },
    {
      "cell_type": "code",
      "source": [
        "import math\n",
        "import nltk\n",
        "nltk.download('punkt')\n",
        "from nltk.tokenize import word_tokenize\n",
        "from nltk.corpus import stopwords\n",
        "nltk.download('stopwords')\n",
        "\n",
        "from sklearn.model_selection import train_test_split\n",
        "from sklearn.metrics import accuracy_score, classification_report\n",
        "from sklearn.linear_model import LogisticRegression\n",
        "from sklearn.naive_bayes import MultinomialNB\n",
        "from sklearn.neighbors import KNeighborsClassifier\n",
        "from sklearn.ensemble import RandomForestClassifier\n",
        "from sklearn.metrics import confusion_matrix\n"
      ],
      "metadata": {
        "colab": {
          "base_uri": "https://localhost:8080/"
        },
        "id": "kp1kFiVfCIB6",
        "outputId": "a8100746-8a39-4601-ca21-b80a2c555934"
      },
      "execution_count": null,
      "outputs": [
        {
          "output_type": "stream",
          "name": "stderr",
          "text": [
            "[nltk_data] Downloading package punkt to /root/nltk_data...\n",
            "[nltk_data]   Unzipping tokenizers/punkt.zip.\n",
            "[nltk_data] Downloading package stopwords to /root/nltk_data...\n",
            "[nltk_data]   Package stopwords is already up-to-date!\n"
          ]
        }
      ]
    },
    {
      "cell_type": "markdown",
      "source": [
        "## Data processing"
      ],
      "metadata": {
        "id": "GFbdg4ktpm4L"
      }
    },
    {
      "cell_type": "code",
      "source": [
        "# Read file and return line\n",
        "def readfile(fn):\n",
        "  with open(fn, 'r', encoding='utf-8') as f:\n",
        "    lines = [line.strip() for line in f.readlines()]\n",
        "  return lines\n",
        "\n",
        "\n",
        "# Read word from file\n",
        "def readword(fn):\n",
        "  with open(fn, 'r', encoding='ISO-8859-1') as f:\n",
        "    lines = [line.strip() for line in f.readlines()]\n",
        "  return lines"
      ],
      "metadata": {
        "id": "IplxBX2apf8Q"
      },
      "execution_count": null,
      "outputs": []
    },
    {
      "cell_type": "code",
      "source": [
        "# Remove new line characters from a list of strings\n",
        "def remove_newline_chars(lines):\n",
        "    return [line[:-1] for line in lines]\n",
        "\n",
        "# Convert a list of strings to lowercase\n",
        "def convert_to_lowercase(lines):\n",
        "    return [line.lower() for line in lines]"
      ],
      "metadata": {
        "id": "EEewdvz018dC"
      },
      "execution_count": null,
      "outputs": []
    },
    {
      "cell_type": "code",
      "source": [
        "# Tokenize a list of strings using NLTK\n",
        "def tokenize_reviews(lines):\n",
        "    return [word_tokenize(line) for line in lines]"
      ],
      "metadata": {
        "id": "Aeq2OVOA57k2"
      },
      "execution_count": null,
      "outputs": []
    },
    {
      "cell_type": "code",
      "source": [
        "# Tokenize and remove stop words\n",
        "def preprocess_and_tokenize(reviews):\n",
        "    stop_words = set(stopwords.words('english'))\n",
        "    tokenized_reviews = []\n",
        "    for review in reviews:\n",
        "        tokens = word_tokenize(review.lower())\n",
        "        # Remove stop words\n",
        "        tokens_without_stopwords = [word for word in tokens if word.lower() not in stop_words]\n",
        "        tokenized_reviews.append(tokens_without_stopwords)\n",
        "    return tokenized_reviews"
      ],
      "metadata": {
        "id": "Ohjej9x32xpe"
      },
      "execution_count": null,
      "outputs": []
    },
    {
      "cell_type": "code",
      "source": [
        "# Read your positive and negative reviews\n",
        "pos_reviews = readfile('positive-reviews.txt')\n",
        "neg_reviews = readfile('negative-reviews.txt')\n",
        "\n",
        "# Read positive and negative words\n",
        "pos_words = readword('positive-words.txt')\n",
        "neg_words = readword('negative-words.txt')"
      ],
      "metadata": {
        "id": "1XtZgnjj4q78"
      },
      "execution_count": null,
      "outputs": []
    },
    {
      "cell_type": "code",
      "source": [
        "# Clean and preprocess positive and negative reviews\n",
        "pos_reviews = remove_newline_chars(pos_reviews)\n",
        "neg_reviews = remove_newline_chars(neg_reviews)\n",
        "pos_reviews = convert_to_lowercase(pos_reviews)\n",
        "neg_reviews = convert_to_lowercase(neg_reviews)"
      ],
      "metadata": {
        "id": "bmGwJ4BTAoTa"
      },
      "execution_count": null,
      "outputs": []
    },
    {
      "cell_type": "code",
      "source": [
        "# Tokenize positive and negative reviews\n",
        "pos_tokenized = tokenize_reviews(pos_reviews)\n",
        "neg_tokenized = tokenize_reviews(neg_reviews)"
      ],
      "metadata": {
        "id": "pb1BzQdODIeq"
      },
      "execution_count": null,
      "outputs": []
    },
    {
      "cell_type": "code",
      "source": [
        "# Tokenize and remove stop words\n",
        "pos_tokenized_no_stopwords = preprocess_and_tokenize(pos_reviews)\n",
        "neg_tokenized_no_stopwords = preprocess_and_tokenize(neg_reviews)\n",
        "\n",
        "# Print the first two tokenized reviews\n",
        "print(\"Tokenized Positive Reviews:\")\n",
        "print(pos_tokenized[:2])\n",
        "print(\"\\nTokenized Negative Reviews:\")\n",
        "print(neg_tokenized[:2])"
      ],
      "metadata": {
        "colab": {
          "base_uri": "https://localhost:8080/"
        },
        "id": "Bj7ocQJMDLy9",
        "outputId": "1827f0fd-ed98-4370-c02c-b7bcf9f22f78"
      },
      "execution_count": null,
      "outputs": [
        {
          "output_type": "stream",
          "name": "stdout",
          "text": [
            "Tokenized Positive Reviews:\n",
            "[['easy', 'to', 'use', ',', 'economical'], ['digital', 'is', 'where', 'it', \"'s\", 'at', '...', 'down', 'with', 'developing', 'film']]\n",
            "\n",
            "Tokenized Negative Reviews:\n",
            "[['east', 'batteries', '!', 'on-off', 'switch', 'too', 'easy', 'to', 'maneuver'], ['eats', '...', 'no', ',', 'gulps', 'batterie']]\n"
          ]
        }
      ]
    },
    {
      "cell_type": "code",
      "source": [
        "#Perform feature extraction\n",
        "def extract_features(tokenized_reviews, positive_words, negative_words):\n",
        "  features = []\n",
        "\n",
        "  for review in tokenized_reviews:\n",
        "    count_positive = sum(1 for word in review if word in positive_words)\n",
        "    count_negative = sum(1 for word in review if word in negative_words)\n",
        "    contain_no = 1 if 'no' in review else 0\n",
        "    pronouns = ['i', 'me', 'my', 'you', 'your']\n",
        "    count_pronoun = sum(1 for word in review if word in pronouns)\n",
        "    contains_exclamation = 1 if '!' in review else 0\n",
        "    review_length = len(review)\n",
        "    log_review_length = math.log(review_length) if review_length > 1 else review_length\n",
        "\n",
        "    feature_vector = [\n",
        "      count_positive,\n",
        "      count_negative,\n",
        "      contain_no,\n",
        "      count_pronoun,\n",
        "      contains_exclamation,\n",
        "      log_review_length\n",
        "    ]\n",
        "\n",
        "    features.append(feature_vector)\n",
        "\n",
        "  return features\n",
        "\n",
        "# Extract features for positive and negative reviews\n",
        "positive_reviews_features = extract_features(pos_tokenized_no_stopwords, pos_words, neg_words)\n",
        "negative_reviews_features = extract_features(neg_tokenized_no_stopwords, pos_words, neg_words)\n",
        "\n",
        "# Print the features for a positive and a negative review\n",
        "print(\"Positive Review Features:\")\n",
        "print(positive_reviews_features[:2])\n",
        "\n",
        "print(\"\\nNegative Review Features:\")\n",
        "print(negative_reviews_features[:2])"
      ],
      "metadata": {
        "colab": {
          "base_uri": "https://localhost:8080/"
        },
        "id": "0vlJ_sDoEBXF",
        "outputId": "6ad54cf9-2916-460d-ff8a-52190cb36b62"
      },
      "execution_count": null,
      "outputs": [
        {
          "output_type": "stream",
          "name": "stdout",
          "text": [
            "Positive Review Features:\n",
            "[[2, 0, 0, 0, 0, 1.3862943611198906], [0, 0, 0, 0, 0, 1.6094379124341003]]\n",
            "\n",
            "Negative Review Features:\n",
            "[[1, 0, 0, 0, 1, 1.9459101490553132], [0, 0, 0, 0, 0, 1.6094379124341003]]\n"
          ]
        }
      ]
    },
    {
      "cell_type": "code",
      "source": [
        "# Combine features and labels for positive reviews\n",
        "positive_data = [(features, 1) for features in positive_reviews_features]\n",
        "\n",
        "# Combine features and labels for negative reviews\n",
        "negative_data = [(features, 0) for features in negative_reviews_features]\n",
        "\n",
        "# Combine positive and negative data\n",
        "all_data = positive_data + negative_data\n",
        "\n",
        "# Separate features and labels\n",
        "features = [data[0] for data in all_data]\n",
        "labels = [data[1] for data in all_data]\n",
        "\n",
        "# Split the dataset into training and testing sets\n",
        "X_train, X_test, y_train, y_test = train_test_split(features, labels, test_size=0.2, random_state=42)"
      ],
      "metadata": {
        "id": "zYaPWcgYWsPS"
      },
      "execution_count": null,
      "outputs": []
    },
    {
      "cell_type": "code",
      "source": [
        "# Train a logistic regression model\n",
        "model_logistic = LogisticRegression()\n",
        "model_logistic.fit(X_train, y_train)\n",
        "\n",
        "# Evaluate the model on the testing set\n",
        "accuracy_logistic = model_logistic.score(X_test, y_test)\n",
        "print(f\"Logistic Accuracy: {accuracy_logistic:.2%}\")"
      ],
      "metadata": {
        "colab": {
          "base_uri": "https://localhost:8080/"
        },
        "id": "5-rJ2wD2Xw0S",
        "outputId": "079166b9-109c-494b-cdd4-5355e06106a1"
      },
      "execution_count": null,
      "outputs": [
        {
          "output_type": "stream",
          "name": "stdout",
          "text": [
            "Logistic Accuracy: 81.51%\n"
          ]
        }
      ]
    },
    {
      "cell_type": "code",
      "source": [
        "# Create a Multinomial Naive Bayes classifier\n",
        "nb_classifier = MultinomialNB()\n",
        "\n",
        "# Train the classifier on the training data\n",
        "nb_classifier.fit(X_train, y_train)\n",
        "\n",
        "# Make predictions on the test set\n",
        "y_pred = nb_classifier.predict(X_test)\n",
        "\n",
        "# Evaluate the accuracy of the classifier\n",
        "accuracy_NB = accuracy_score(y_test, y_pred)\n",
        "print(f\"Naive Bayes Accuracy: {accuracy_NB:.2%}\")\n",
        "\n",
        "# Display additional evaluation metrics (optional)\n",
        "print(\"\\nClassification Report:\")\n",
        "print(classification_report(y_test, y_pred))"
      ],
      "metadata": {
        "colab": {
          "base_uri": "https://localhost:8080/"
        },
        "id": "eKZOTk36X5xU",
        "outputId": "0a9031a4-b230-4ecf-d5ee-a7e6a54eb111"
      },
      "execution_count": null,
      "outputs": [
        {
          "output_type": "stream",
          "name": "stdout",
          "text": [
            "Naive Bayes Accuracy: 81.47%\n",
            "\n",
            "Classification Report:\n",
            "              precision    recall  f1-score   support\n",
            "\n",
            "           0       0.77      0.89      0.83      4607\n",
            "           1       0.87      0.73      0.80      4567\n",
            "\n",
            "    accuracy                           0.81      9174\n",
            "   macro avg       0.82      0.81      0.81      9174\n",
            "weighted avg       0.82      0.81      0.81      9174\n",
            "\n"
          ]
        }
      ]
    },
    {
      "cell_type": "code",
      "source": [
        "# Create a KNN classifier with k=3\n",
        "knn_classifier = KNeighborsClassifier(n_neighbors=3)\n",
        "# Train the classifier on the training data\n",
        "knn_classifier.fit(X_train, y_train)\n",
        "# Make predictions on the test data\n",
        "y_pred = knn_classifier.predict(X_test)\n",
        "# Evaluate the accuracy of the classifier\n",
        "accuracy_knn = accuracy_score(y_test, y_pred)\n",
        "print(f\"KNN Accuracy: {accuracy_knn:.2%}\")"
      ],
      "metadata": {
        "colab": {
          "base_uri": "https://localhost:8080/"
        },
        "id": "kA0wFaKXZDGR",
        "outputId": "5aec3160-74b2-4e51-9b17-df64ab1a18b8"
      },
      "execution_count": null,
      "outputs": [
        {
          "output_type": "stream",
          "name": "stdout",
          "text": [
            "KNN Accuracy: 74.25%\n"
          ]
        }
      ]
    },
    {
      "cell_type": "code",
      "source": [
        "# Create a random forest classifier\n",
        "model_random_forest = RandomForestClassifier(n_estimators=100)\n",
        "\n",
        "# Train the classifier on the training data\n",
        "model_random_forest.fit(X_train, y_train)\n",
        "\n",
        "# Make predictions on the test data\n",
        "y_pred = model_random_forest.predict(X_test)\n",
        "\n",
        "# Evaluate the accuracy of the classifier\n",
        "accuracy_rf = accuracy_score(y_test, y_pred)\n",
        "print(f'Random Forest Accuracy: {accuracy_rf:.2%}')\n",
        "\n",
        "# Display the confusion matrix\n",
        "confusion_matrix(y_test, y_pred)\n"
      ],
      "metadata": {
        "colab": {
          "base_uri": "https://localhost:8080/"
        },
        "id": "uslFon0jZP2g",
        "outputId": "ae4aca72-20c1-4b0c-f20d-67569d050a9f"
      },
      "execution_count": null,
      "outputs": [
        {
          "output_type": "stream",
          "name": "stdout",
          "text": [
            "Random Forest Accuracy: 81.92%\n"
          ]
        },
        {
          "output_type": "execute_result",
          "data": {
            "text/plain": [
              "array([[4086,  521],\n",
              "       [1138, 3429]])"
            ]
          },
          "metadata": {},
          "execution_count": 99
        }
      ]
    },
    {
      "cell_type": "code",
      "source": [
        "import matplotlib.pyplot as plt # for data visualization\n",
        "# Create a bar chart\n",
        "plt.bar(range(4), [accuracy_logistic, accuracy_knn, accuracy_NB, accuracy_rf], tick_label=['accuracy_logistic', 'accuracy_knn', 'accuracy_nb', 'accuracy_rf'])\n",
        "plt.xticks(rotation=90)\n",
        "plt.xlabel('Models')\n",
        "plt.ylabel('Percentage')\n",
        "plt.title('Accuracy score comparison')\n",
        "plt.show()"
      ],
      "metadata": {
        "colab": {
          "base_uri": "https://localhost:8080/",
          "height": 577
        },
        "id": "iv8kFpN5jGxP",
        "outputId": "5c7857fb-0bd0-49c8-a05f-83fe90f8551c"
      },
      "execution_count": null,
      "outputs": [
        {
          "output_type": "display_data",
          "data": {
            "text/plain": [
              "<Figure size 640x480 with 1 Axes>"
            ],
            "image/png": "[encoded data removed]"
          },
          "metadata": {}
        }
      ]
    }
  ]
}